{
 "cells": [
  {
   "cell_type": "code",
   "execution_count": 1,
   "metadata": {
    "collapsed": true
   },
   "outputs": [],
   "source": [
    "import pickle\n",
    "import matplotlib.pyplot as plt\n",
    "import numpy as np"
   ]
  },
  {
   "cell_type": "code",
   "execution_count": 2,
   "outputs": [],
   "source": [
    "    with open ('Final_reports.pickle','rb') as f:\n",
    "        reports = pickle.load(f)\n",
    "        f.close()"
   ],
   "metadata": {
    "collapsed": false,
    "pycharm": {
     "name": "#%%\n"
    }
   }
  },
  {
   "cell_type": "code",
   "execution_count": null,
   "outputs": [],
   "source": [
    "    for transp_grid, data in reports.items():\n",
    "        for el, d in data.items():\n",
    "            print(el, d)\n",
    "\n",
    "            #dist grid reports\n",
    "            if 'dist' in el:\n",
    "                for comp , data_com in d.items():\n",
    "\n",
    "                    pass\n"
   ],
   "metadata": {
    "collapsed": false,
    "pycharm": {
     "name": "#%% dist grids\n"
    }
   }
  },
  {
   "cell_type": "code",
   "execution_count": 3,
   "outputs": [],
   "source": [
    "def plot_GEN (data):\n",
    "    T_in = np.array(data ['T_in'])\n",
    "    G_in = np.array(data ['G_in'])\n",
    "    T_out = np.array(data['T_out'])\n",
    "    G_out = np.array(data['G_out'])\n",
    "    P = np.array(data ['P'])\n",
    "    P\n"
   ],
   "metadata": {
    "collapsed": false,
    "pycharm": {
     "name": "#%% function to plot power plants\n"
    }
   }
  },
  {
   "cell_type": "code",
   "execution_count": 5,
   "outputs": [],
   "source": [
    "for transp_grid, data in reports.items():\n",
    "        for el, d in data.items():\n",
    "            if 'GEN' in el:\n",
    "                plot_GEN(d)\n",
    "                pass"
   ],
   "metadata": {
    "collapsed": false,
    "pycharm": {
     "name": "#%% power plant\n"
    }
   }
  },
  {
   "cell_type": "code",
   "execution_count": null,
   "outputs": [],
   "source": [
    "for transp_grid, data in reports.items():\n",
    "        for el, d in data.items():\n",
    "            if 'GEN' not in el and 'dist' not in el:\n",
    "\n",
    "                pass"
   ],
   "metadata": {
    "collapsed": false,
    "pycharm": {
     "name": "#%% trasnport grid whole\n"
    }
   }
  }
 ],
 "metadata": {
  "kernelspec": {
   "display_name": "Python 3",
   "language": "python",
   "name": "python3"
  },
  "language_info": {
   "codemirror_mode": {
    "name": "ipython",
    "version": 2
   },
   "file_extension": ".py",
   "mimetype": "text/x-python",
   "name": "python",
   "nbconvert_exporter": "python",
   "pygments_lexer": "ipython2",
   "version": "2.7.6"
  }
 },
 "nbformat": 4,
 "nbformat_minor": 0
}